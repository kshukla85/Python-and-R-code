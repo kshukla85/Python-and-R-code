{
 "cells": [
  {
   "cell_type": "markdown",
   "metadata": {},
   "source": [
    "## MSQM Health Analytics - Kunal Shukla (ks765),\n"
    "## Retail Data\n",
    "\n",
    "The objective of this assignment is to introduce the pandas DataFrame and some of its associated methods that can help with data wrangling.\n",
    "\n",
    "To do this, we will focus on a Retail Data use case. Suppose we are given historical sales data for 45 stores located in different regions and each store contains a number of departments. There are two datasets of interest here: \n",
    "\n",
    "        1) Sales: Weekly sales by department for each store\n",
    "        2) Stores: Features of each store including 'Type' which indicates the type of store and 'size' which indicates the number of weekly visitors.\n",
    "\n",
    "**Your primary analytical question is this: For each type of store, what is the average weekly sales after excluding holidays?**\n",
    "\n",
    "The dataset for this project can be found here:\n",
    "https://www.kaggle.com/manjeetsingh/retaildataset?select=sales+data-set.csv \n"
   ]
  },
  {
   "cell_type": "markdown",
   "metadata": {},
   "source": [
    "### Task 0: Initial Data Formatting\n",
    "\n",
    "We first start reading in two data frames: sales and stores."
   ]
  },
  {
   "cell_type": "code",
   "execution_count": 1,
   "metadata": {},
   "outputs": [],
   "source": [
    "# import pandas and numpy\n",
    "import pandas as pd\n",
    "import numpy as np\n",
    "\n",
    "import os\n",
    "os.listdir()\n",
    "os.chdir('/Users/spencermillen/Desktop/')"
   ]
  },
  {
   "cell_type": "markdown",
   "metadata": {},
   "source": [
    " *0a)* use pd.read_csv() to load the data frames"
   ]
  },
  {
   "cell_type": "code",
   "execution_count": 2,
   "metadata": {},
   "outputs": [],
   "source": [
    "# Read in the sales csv as a pandas data frame\n",
    "sales =  pd.read_csv(\"sales.csv\")\n",
    "\n",
    "# Read in the stores csv as a pandas data frame\n",
    "stores =  pd.read_csv(\"stores.csv\")"
   ]
  },
  {
   "cell_type": "markdown",
   "metadata": {},
   "source": [
    "*0b)* Take a look at the data for *stores* using some of the pd.DataFrame methods. Consider .value_counts(), .head(), .tail(), .info(). Briefly describe your findings in a text chunk."
   ]
  },
  {
   "cell_type": "code",
   "execution_count": 3,
   "metadata": {},
   "outputs": [
    {
     "name": "stdout",
     "output_type": "stream",
     "text": [
      "<class 'pandas.core.frame.DataFrame'>\n",
      "RangeIndex: 45 entries, 0 to 44\n",
      "Data columns (total 3 columns):\n",
      " #   Column  Non-Null Count  Dtype \n",
      "---  ------  --------------  ----- \n",
      " 0   Store   45 non-null     int64 \n",
      " 1   Type    45 non-null     object\n",
      " 2   Size    45 non-null     int64 \n",
      "dtypes: int64(2), object(1)\n",
      "memory usage: 1.2+ KB\n"
     ]
    }
   ],
   "source": [
    "stores.head() # Using head() to display the first few rows of the data for the \"stores\"\n",
    "stores.tail() # Using tail() to display the last few rows of the data for the \"stores\" \n",
    "stores.value_counts()# Using value_counts() to see the count of unique values in the \"stores\" \n",
    "stores.info()#Using info() to get a concise summary of the data for the \"stores\" "
   ]
  },
  {
   "cell_type": "markdown",
   "metadata": {},
   "source": [
    "Using .head and .tail, we see the stores dataset lists out the Store number, the Type of store, and the Size.  \n",
    "Using .value_counts, we see that there are 45 unique columns, for the stores 1 through 45\n",
    "Using .info, we see that each column has 45 entries, without null values. And we see the type of column data (int vs object)"
   ]
  },
  {
   "cell_type": "markdown",
   "metadata": {},
   "source": [
    "### Task 1: Modifying a column"
   ]
  },
  {
   "cell_type": "markdown",
   "metadata": {},
   "source": [
    "*1a)* Add comments to describe the function of the following code"
   ]
  },
  {
   "cell_type": "code",
   "execution_count": 4,
   "metadata": {},
   "outputs": [
    {
     "name": "stderr",
     "output_type": "stream",
     "text": [
      "/var/folders/0h/qv4rjn2x345d63rwhq2d4p0m0000gn/T/ipykernel_32695/1274259003.py:2: DeprecationWarning: In a future version, `df.iloc[:, i] = newvals` will attempt to set the values inplace instead of always setting a new array. To retain the old behavior, use either `df[df.columns[i]] = newvals` or, if columns are non-unique, `df.isetitem(i, newvals)`\n",
      "  sales.loc[:, 'Date'] = pd.to_datetime(sales['Date'], format='%d/%m/%Y', errors='coerce')\n"
     ]
    }
   ],
   "source": [
    "# Convert the 'Date' column with the specified date format to datetime format\n",
    "sales.loc[:, 'Date'] = pd.to_datetime(sales['Date'], format='%d/%m/%Y', errors='coerce')"
   ]
  },
  {
   "cell_type": "code",
   "execution_count": 8,
   "metadata": {},
   "outputs": [
    {
     "data": {
      "text/html": [
       "<div>\n",
       "<style scoped>\n",
       "    .dataframe tbody tr th:only-of-type {\n",
       "        vertical-align: middle;\n",
       "    }\n",
       "\n",
       "    .dataframe tbody tr th {\n",
       "        vertical-align: top;\n",
       "    }\n",
       "\n",
       "    .dataframe thead th {\n",
       "        text-align: right;\n",
       "    }\n",
       "</style>\n",
       "<table border=\"1\" class=\"dataframe\">\n",
       "  <thead>\n",
       "    <tr style=\"text-align: right;\">\n",
       "      <th></th>\n",
       "      <th>Store</th>\n",
       "      <th>Type</th>\n",
       "      <th>Size</th>\n",
       "      <th>Store_Size</th>\n",
       "    </tr>\n",
       "  </thead>\n",
       "  <tbody>\n",
       "    <tr>\n",
       "      <th>0</th>\n",
       "      <td>1</td>\n",
       "      <td>A</td>\n",
       "      <td>151315</td>\n",
       "      <td>Large</td>\n",
       "    </tr>\n",
       "    <tr>\n",
       "      <th>1</th>\n",
       "      <td>2</td>\n",
       "      <td>A</td>\n",
       "      <td>202307</td>\n",
       "      <td>Large</td>\n",
       "    </tr>\n",
       "    <tr>\n",
       "      <th>2</th>\n",
       "      <td>3</td>\n",
       "      <td>B</td>\n",
       "      <td>37392</td>\n",
       "      <td>Small</td>\n",
       "    </tr>\n",
       "    <tr>\n",
       "      <th>3</th>\n",
       "      <td>4</td>\n",
       "      <td>A</td>\n",
       "      <td>205863</td>\n",
       "      <td>Large</td>\n",
       "    </tr>\n",
       "    <tr>\n",
       "      <th>4</th>\n",
       "      <td>5</td>\n",
       "      <td>B</td>\n",
       "      <td>34875</td>\n",
       "      <td>Small</td>\n",
       "    </tr>\n",
       "  </tbody>\n",
       "</table>\n",
       "</div>"
      ],
      "text/plain": [
       "   Store Type    Size Store_Size\n",
       "0      1    A  151315      Large\n",
       "1      2    A  202307      Large\n",
       "2      3    B   37392      Small\n",
       "3      4    A  205863      Large\n",
       "4      5    B   34875      Small"
      ]
     },
     "execution_count": 8,
     "metadata": {},
     "output_type": "execute_result"
    }
   ],
   "source": [
    "# Designates a new column based on values in Size column\n",
    "stores.loc[:, 'Store_Size'] = np.where(stores['Size'] > 100000, \"Large\", \"Small\")\n",
    "stores.head()"
   ]
  },
  {
   "cell_type": "markdown",
   "metadata": {},
   "source": [
    "*1b)* Modify the *IsHoliday* column so it has a value of 0 for False and 1 for True"
   ]
  },
  {
   "cell_type": "code",
   "execution_count": 9,
   "metadata": {},
   "outputs": [],
   "source": [
    "# Assigned True/False values as integers, which converts boolean values to 0/1\n",
    "sales['IsHoliday'] = sales['IsHoliday'].astype(int)"
   ]
  },
  {
   "cell_type": "markdown",
   "metadata": {},
   "source": [
    "### Task 2: Filtering the data frame"
   ]
  },
  {
   "cell_type": "markdown",
   "metadata": {},
   "source": [
    "*2a)* Use the *.query()* data frame method to filter out the observations occurring on a holiday."
   ]
  },
  {
   "cell_type": "code",
   "execution_count": 10,
   "metadata": {},
   "outputs": [
    {
     "name": "stdout",
     "output_type": "stream",
     "text": [
      "   Store  Dept       Date  Weekly_Sales  IsHoliday\n",
      "0      1     1 2010-02-05      24924.50          0\n",
      "2      1     1 2010-02-19      41595.55          0\n",
      "3      1     1 2010-02-26      19403.54          0\n",
      "4      1     1 2010-03-05      21827.90          0\n",
      "5      1     1 2010-03-12      21043.39          0\n"
     ]
    }
   ],
   "source": [
    "# Filter out the observations occurring on a holiday\n",
    "sales_on_holiday = sales.query('IsHoliday == False')\n",
    "\n",
    "# Display the first few rows of the filtered data frame\n",
    "print(sales_on_holiday.head())"
   ]
  },
  {
   "cell_type": "markdown",
   "metadata": {},
   "source": [
    "*2b)* Rewrite the code from *2a* using .loc[] and save it to a new data frame"
   ]
  },
  {
   "cell_type": "code",
   "execution_count": 11,
   "metadata": {},
   "outputs": [
    {
     "name": "stdout",
     "output_type": "stream",
     "text": [
      "   Store  Dept       Date  Weekly_Sales  IsHoliday\n",
      "0      1     1 2010-02-05      24924.50          0\n",
      "2      1     1 2010-02-19      41595.55          0\n",
      "3      1     1 2010-02-26      19403.54          0\n",
      "4      1     1 2010-03-05      21827.90          0\n",
      "5      1     1 2010-03-12      21043.39          0\n"
     ]
    }
   ],
   "source": [
    "#  Rewrite the code from 2a using .loc[] and save it to a new data frame\n",
    "sales_2b = sales.loc[sales['IsHoliday'] == False].copy()\n",
    "# Display the first few rows of the filtered data frame\n",
    "print(sales_2b.head())\n"
   ]
  },
  {
   "cell_type": "markdown",
   "metadata": {},
   "source": [
    "### Task 3: Merge *Stores* and *Sales* data frames"
   ]
  },
  {
   "cell_type": "markdown",
   "metadata": {},
   "source": [
    "*3a)* Using the following code as a base, merge the tables using the *merge* method for the pandas DataFrame (not the pd.merge function)"
   ]
  },
  {
   "cell_type": "code",
   "execution_count": 13,
   "metadata": {},
   "outputs": [
    {
     "data": {
      "text/html": [
       "<div>\n",
       "<style scoped>\n",
       "    .dataframe tbody tr th:only-of-type {\n",
       "        vertical-align: middle;\n",
       "    }\n",
       "\n",
       "    .dataframe tbody tr th {\n",
       "        vertical-align: top;\n",
       "    }\n",
       "\n",
       "    .dataframe thead th {\n",
       "        text-align: right;\n",
       "    }\n",
       "</style>\n",
       "<table border=\"1\" class=\"dataframe\">\n",
       "  <thead>\n",
       "    <tr style=\"text-align: right;\">\n",
       "      <th></th>\n",
       "      <th>Store</th>\n",
       "      <th>Type</th>\n",
       "      <th>Size</th>\n",
       "      <th>Store_Size</th>\n",
       "      <th>Dept</th>\n",
       "      <th>Date</th>\n",
       "      <th>Weekly_Sales</th>\n",
       "      <th>IsHoliday</th>\n",
       "    </tr>\n",
       "  </thead>\n",
       "  <tbody>\n",
       "    <tr>\n",
       "      <th>0</th>\n",
       "      <td>1</td>\n",
       "      <td>A</td>\n",
       "      <td>151315</td>\n",
       "      <td>Large</td>\n",
       "      <td>1</td>\n",
       "      <td>2010-02-05</td>\n",
       "      <td>24924.50</td>\n",
       "      <td>0</td>\n",
       "    </tr>\n",
       "    <tr>\n",
       "      <th>1</th>\n",
       "      <td>1</td>\n",
       "      <td>A</td>\n",
       "      <td>151315</td>\n",
       "      <td>Large</td>\n",
       "      <td>1</td>\n",
       "      <td>2010-02-19</td>\n",
       "      <td>41595.55</td>\n",
       "      <td>0</td>\n",
       "    </tr>\n",
       "    <tr>\n",
       "      <th>2</th>\n",
       "      <td>1</td>\n",
       "      <td>A</td>\n",
       "      <td>151315</td>\n",
       "      <td>Large</td>\n",
       "      <td>1</td>\n",
       "      <td>2010-02-26</td>\n",
       "      <td>19403.54</td>\n",
       "      <td>0</td>\n",
       "    </tr>\n",
       "    <tr>\n",
       "      <th>3</th>\n",
       "      <td>1</td>\n",
       "      <td>A</td>\n",
       "      <td>151315</td>\n",
       "      <td>Large</td>\n",
       "      <td>1</td>\n",
       "      <td>2010-03-05</td>\n",
       "      <td>21827.90</td>\n",
       "      <td>0</td>\n",
       "    </tr>\n",
       "    <tr>\n",
       "      <th>4</th>\n",
       "      <td>1</td>\n",
       "      <td>A</td>\n",
       "      <td>151315</td>\n",
       "      <td>Large</td>\n",
       "      <td>1</td>\n",
       "      <td>2010-03-12</td>\n",
       "      <td>21043.39</td>\n",
       "      <td>0</td>\n",
       "    </tr>\n",
       "  </tbody>\n",
       "</table>\n",
       "</div>"
      ],
      "text/plain": [
       "   Store Type    Size Store_Size  Dept       Date  Weekly_Sales  IsHoliday\n",
       "0      1    A  151315      Large     1 2010-02-05      24924.50          0\n",
       "1      1    A  151315      Large     1 2010-02-19      41595.55          0\n",
       "2      1    A  151315      Large     1 2010-02-26      19403.54          0\n",
       "3      1    A  151315      Large     1 2010-03-05      21827.90          0\n",
       "4      1    A  151315      Large     1 2010-03-12      21043.39          0"
      ]
     },
     "execution_count": 13,
     "metadata": {},
     "output_type": "execute_result"
    }
   ],
   "source": [
    "# Left merge, based on Store column value\n",
    "sales_stores = stores.merge(\n",
    "                        sales_2b,\n",
    "                        how='inner',\n",
    "                        on='Store'\n",
    "                       )\n",
    "\n",
    "sales_stores.head()"
   ]
  },
  {
   "cell_type": "markdown",
   "metadata": {},
   "source": [
    "*3b)* Explain the implications of the type of join you chose (\"left\", \"right\", \"inner\", \"outer\") and why it makes the most sense here. Are there any differences in results if you use a different type of join?\n",
    "\n",
    "Left join adds the data from the second dataframe, and keeping the unique columns of the right designated dataframe. \n",
    "\n",
    "There is no difference in output for each type of join, as there is no missing data values. "
   ]
  },
  {
   "cell_type": "markdown",
   "metadata": {},
   "source": [
    "### Task 4: Summarize the data frame"
   ]
  },
  {
   "cell_type": "markdown",
   "metadata": {},
   "source": [
    "*4a)* Add comments to describe the function of the following code"
   ]
  },
  {
   "cell_type": "code",
   "execution_count": 14,
   "metadata": {},
   "outputs": [
    {
     "data": {
      "text/html": [
       "<div>\n",
       "<style scoped>\n",
       "    .dataframe tbody tr th:only-of-type {\n",
       "        vertical-align: middle;\n",
       "    }\n",
       "\n",
       "    .dataframe tbody tr th {\n",
       "        vertical-align: top;\n",
       "    }\n",
       "\n",
       "    .dataframe thead th {\n",
       "        text-align: right;\n",
       "    }\n",
       "</style>\n",
       "<table border=\"1\" class=\"dataframe\">\n",
       "  <thead>\n",
       "    <tr style=\"text-align: right;\">\n",
       "      <th></th>\n",
       "      <th>Store</th>\n",
       "      <th>Date</th>\n",
       "      <th>Type</th>\n",
       "      <th>Weekly_Sales</th>\n",
       "    </tr>\n",
       "  </thead>\n",
       "  <tbody>\n",
       "    <tr>\n",
       "      <th>0</th>\n",
       "      <td>1</td>\n",
       "      <td>2010-02-05</td>\n",
       "      <td>A</td>\n",
       "      <td>1643690.90</td>\n",
       "    </tr>\n",
       "    <tr>\n",
       "      <th>1</th>\n",
       "      <td>1</td>\n",
       "      <td>2010-02-19</td>\n",
       "      <td>A</td>\n",
       "      <td>1611968.17</td>\n",
       "    </tr>\n",
       "    <tr>\n",
       "      <th>2</th>\n",
       "      <td>1</td>\n",
       "      <td>2010-02-26</td>\n",
       "      <td>A</td>\n",
       "      <td>1409727.59</td>\n",
       "    </tr>\n",
       "    <tr>\n",
       "      <th>3</th>\n",
       "      <td>1</td>\n",
       "      <td>2010-03-05</td>\n",
       "      <td>A</td>\n",
       "      <td>1554806.68</td>\n",
       "    </tr>\n",
       "    <tr>\n",
       "      <th>4</th>\n",
       "      <td>1</td>\n",
       "      <td>2010-03-12</td>\n",
       "      <td>A</td>\n",
       "      <td>1439541.59</td>\n",
       "    </tr>\n",
       "  </tbody>\n",
       "</table>\n",
       "</div>"
      ],
      "text/plain": [
       "   Store       Date Type  Weekly_Sales\n",
       "0      1 2010-02-05    A    1643690.90\n",
       "1      1 2010-02-19    A    1611968.17\n",
       "2      1 2010-02-26    A    1409727.59\n",
       "3      1 2010-03-05    A    1554806.68\n",
       "4      1 2010-03-12    A    1439541.59"
      ]
     },
     "execution_count": 14,
     "metadata": {},
     "output_type": "execute_result"
    }
   ],
   "source": [
    "# Calculate the weekly sales by grouping the data by Store, Date and Type, then summing the Weekly_Sales \n",
    "weekly_store_sales = (sales_stores\n",
    "                      .groupby(['Store', 'Date', 'Type'])['Weekly_Sales']# Group the data by Store, Date and Type columns\n",
    "                      .sum() #summing the Weekly_Sales for each group\n",
    "                      .reset_index() #Reset the index to a new row index\n",
    "                     )\n",
    "weekly_store_sales.head()"
   ]
  },
  {
   "cell_type": "markdown",
   "metadata": {},
   "source": [
    "*4b)* Recall that our original goal was to characterize weekly sales. We can do this using the simple code below. But we are interested in more than just the mean overall. "
   ]
  },
  {
   "cell_type": "code",
   "execution_count": 15,
   "metadata": {},
   "outputs": [
    {
     "name": "stdout",
     "output_type": "stream",
     "text": [
      "Mean:  1041256.3802088555\n",
      "Median:  956211.2\n",
      "Standard Deviation:  558957.4361473157\n"
     ]
    }
   ],
   "source": [
    "# Calculate the mean, median, and standard deviation of the weekly sales\n",
    "mean_sales = weekly_store_sales['Weekly_Sales'].mean()  # Calculate the mean\n",
    "median_sales = weekly_store_sales['Weekly_Sales'].median()  # Calculate the median\n",
    "std_dev_sales = weekly_store_sales['Weekly_Sales'].std()  # Calculate the standard deviation\n",
    "\n",
    "# Print the calculated statistics\n",
    "print(\"Mean: \", mean_sales)\n",
    "print(\"Median: \", median_sales)\n",
    "print(\"Standard Deviation: \", std_dev_sales)"
   ]
  },
  {
   "cell_type": "markdown",
   "metadata": {},
   "source": [
    "Extend this question to be more specific, then write the necessary code and answer it. You can consider, for example, different aggregation functions, another variable in the *.groupby()*, or additional filtering. \n",
    "*Explain your findings.*\n",
    "\n",
    "**Revised Question**"
   ]
  },
  {
   "cell_type": "code",
   "execution_count": 16,
   "metadata": {},
   "outputs": [
    {
     "name": "stdout",
     "output_type": "stream",
     "text": [
      "  Type  Weekly_Sales                           \n",
      "                mean      median            std\n",
      "0    A  1.369655e+06  1366388.78  525152.718598\n",
      "1    B  8.169216e+05   729036.06  401953.418494\n",
      "2    C  4.727416e+05   478493.13  114908.294797\n"
     ]
    }
   ],
   "source": [
    "# Calculate the mean, median, and standard deviation of the weekly sales for different store types\n",
    "store_type_sales_stats = (weekly_store_sales\n",
    "                          .groupby('Type')# Group the data by store Type\n",
    "                          .agg({'Weekly_Sales': ['mean', 'median', 'std']})  # Use agg() to apply different aggregation functions\n",
    "                          .reset_index()  # Reset the index\n",
    "                         )\n",
    "\n",
    "# Print the calculated statistics for each store type\n",
    "print(store_type_sales_stats)\n"
   ]
  },
  {
   "cell_type": "markdown",
   "metadata": {},
   "source": [
    " **Observations**\n",
    " \n",
    " Explanation of findings: By using the .groupby() function with 'Type' variable and applying different \n",
    " aggregation functions such as mean, median, and standard deviation to 'Weekly_Sales', we can compare the\n",
    " statistical measures for weekly sales across different store types. Type A stores demonstrate larger sales, \n",
    " by measures of mean and median, and demonstrate a larger standard deviation, as compared with similar sales \n",
    " numbers from Type B and C stores.\n"
   ]
  },
  {
   "cell_type": "markdown",
   "metadata": {},
   "source": [
    "### Task 5: Method Chaining\n",
    "Complete tasks 2a, 3a and 4a in a single code chunk using method chaining"
   ]
  },
  {
   "cell_type": "code",
   "execution_count": 17,
   "metadata": {},
   "outputs": [
    {
     "data": {
      "text/html": [
       "<div>\n",
       "<style scoped>\n",
       "    .dataframe tbody tr th:only-of-type {\n",
       "        vertical-align: middle;\n",
       "    }\n",
       "\n",
       "    .dataframe tbody tr th {\n",
       "        vertical-align: top;\n",
       "    }\n",
       "\n",
       "    .dataframe thead th {\n",
       "        text-align: right;\n",
       "    }\n",
       "</style>\n",
       "<table border=\"1\" class=\"dataframe\">\n",
       "  <thead>\n",
       "    <tr style=\"text-align: right;\">\n",
       "      <th></th>\n",
       "      <th>Store</th>\n",
       "      <th>Date</th>\n",
       "      <th>Type</th>\n",
       "      <th>Weekly_Sales</th>\n",
       "    </tr>\n",
       "  </thead>\n",
       "  <tbody>\n",
       "    <tr>\n",
       "      <th>0</th>\n",
       "      <td>1</td>\n",
       "      <td>2010-02-05</td>\n",
       "      <td>A</td>\n",
       "      <td>1643690.90</td>\n",
       "    </tr>\n",
       "    <tr>\n",
       "      <th>1</th>\n",
       "      <td>1</td>\n",
       "      <td>2010-02-19</td>\n",
       "      <td>A</td>\n",
       "      <td>1611968.17</td>\n",
       "    </tr>\n",
       "    <tr>\n",
       "      <th>2</th>\n",
       "      <td>1</td>\n",
       "      <td>2010-02-26</td>\n",
       "      <td>A</td>\n",
       "      <td>1409727.59</td>\n",
       "    </tr>\n",
       "    <tr>\n",
       "      <th>3</th>\n",
       "      <td>1</td>\n",
       "      <td>2010-03-05</td>\n",
       "      <td>A</td>\n",
       "      <td>1554806.68</td>\n",
       "    </tr>\n",
       "    <tr>\n",
       "      <th>4</th>\n",
       "      <td>1</td>\n",
       "      <td>2010-03-12</td>\n",
       "      <td>A</td>\n",
       "      <td>1439541.59</td>\n",
       "    </tr>\n",
       "  </tbody>\n",
       "</table>\n",
       "</div>"
      ],
      "text/plain": [
       "   Store       Date Type  Weekly_Sales\n",
       "0      1 2010-02-05    A    1643690.90\n",
       "1      1 2010-02-19    A    1611968.17\n",
       "2      1 2010-02-26    A    1409727.59\n",
       "3      1 2010-03-05    A    1554806.68\n",
       "4      1 2010-03-12    A    1439541.59"
      ]
     },
     "execution_count": 17,
     "metadata": {},
     "output_type": "execute_result"
    }
   ],
   "source": [
    "final = (\n",
    "    sales #Selects our dataframe\n",
    "    .query('IsHoliday == False') #filters by loc for non-holidays\n",
    "    .merge(stores, how='left', on='Store') # left merge, using Store column as the linking column\n",
    "    .groupby(['Store', 'Date', 'Type']) # groups by designated columns\n",
    "    ['Weekly_Sales'] # Addition of Weekly Sales\n",
    "    .sum()\n",
    "    .reset_index() # \"resets\" the index, returning the original integer based index\n",
    ")\n",
    "final.head()"
   ]
  }
 ],
 "metadata": {
  "kernelspec": {
   "display_name": "Python 3 (ipykernel)",
   "language": "python",
   "name": "python3"
  },
  "language_info": {
   "codemirror_mode": {
    "name": "ipython",
    "version": 3
   },
   "file_extension": ".py",
   "mimetype": "text/x-python",
   "name": "python",
   "nbconvert_exporter": "python",
   "pygments_lexer": "ipython3",
   "version": "3.11.4"
  }
 },
 "nbformat": 4,
 "nbformat_minor": 4
}
