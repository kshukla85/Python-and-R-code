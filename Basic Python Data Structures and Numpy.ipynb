{
 "cells": [
  {
   "cell_type": "markdown",
   "metadata": {},
   "source": [
    "## Basic Python Data Structures and Numpy\n",
    "\n",
    "The objective of this assignment is to introduce Jupyter notebook as a development environment and to introduce data structures in Python that provide the basis for much of the data manipulation and, eventually, visualization work that we will perform in later sections.\n",
    "\n",
    "**Recall the keyboard shortcuts introduced in the video lectures:**\n",
    "- Convert current chunk to Markown: *Esc* -> *M*\n",
    "- New code chunk...\n",
    "    - above current cell: *Esc* -> *A*\n",
    "    - below current cell: *Esc* -> *B*\n",
    "- Run code chunk: *Shift+Enter*\n",
    "- Comment: *ctrl + /* (PC) or *command + /* (Mac)"
   ]
  },
  {
   "cell_type": "markdown",
   "metadata": {},
   "source": [
    "### Task 1: Create and Modify a List\n",
    "We first begin with one of the simplest ways to store data: a list. Recall that when we were working in R, lists could store data of different types (characters, integers, logicals) and they could retain that data type when referenced.\n",
    "\n",
    "Fortunately, Python offers some similar functionality. We will start by exploring some of the basic features of a list"
   ]
  },
  {
   "cell_type": "markdown",
   "metadata": {},
   "source": [
    "*1a) Creating a list*\n",
    "\n",
    "Create a list using square brackets"
   ]
  },
  {
   "cell_type": "code",
   "execution_count": 1,
   "metadata": {},
   "outputs": [],
   "source": [
    "# Create a list\n",
    "my_list = [1, 'Friends', 3, True] # Add some elements (characters, integers, logicals) to this list, separated by a comma"
   ]
  },
  {
   "cell_type": "markdown",
   "metadata": {},
   "source": [
    "*1b) Appending a list and selecting the last item*\n",
    "\n",
    "Use *.append()* to an element to the end of that list, then reference it using [-1]. "
   ]
  },
  {
   "cell_type": "code",
   "execution_count": 2,
   "metadata": {},
   "outputs": [],
   "source": [
    "my_list.append('Freedom')"
   ]
  },
  {
   "cell_type": "markdown",
   "metadata": {},
   "source": [
    "### Task 2: Subsetting a list\n",
    "*2a:* Select the first element of that list.\n",
    "\n",
    "**Question**: How is this different from R? R subsets using number 1 first whereas Python uses 0 in their subsetting options to pick an argument in the list."
   ]
  },
  {
   "cell_type": "code",
   "execution_count": 3,
   "metadata": {},
   "outputs": [
    {
     "data": {
      "text/plain": [
       "1"
      ]
     },
     "execution_count": 3,
     "metadata": {},
     "output_type": "execute_result"
    }
   ],
   "source": [
    "my_list[0]"
   ]
  },
  {
   "cell_type": "markdown",
   "metadata": {},
   "source": [
    "*2b:* Select the last element of that list"
   ]
  },
  {
   "cell_type": "code",
   "execution_count": 4,
   "metadata": {},
   "outputs": [
    {
     "data": {
      "text/plain": [
       "'Freedom'"
      ]
     },
     "execution_count": 4,
     "metadata": {},
     "output_type": "execute_result"
    }
   ],
   "source": [
    "my_list[-1]"
   ]
  },
  {
   "cell_type": "markdown",
   "metadata": {},
   "source": [
    "### Task 3: Modifying elements of a list and list comprehension\n",
    "*3a:* Try creating another list of just numbers (e.g. [1, 3, 4]) and then try adding 1 to every element of that list (even if it contains a string). What happens? The addition of 1 adds to each element in list_2.\n"
   ]
  },
  {
   "cell_type": "code",
   "execution_count": 5,
   "metadata": {},
   "outputs": [
    {
     "data": {
      "text/plain": [
       "[2, 3, 4, 5]"
      ]
     },
     "execution_count": 5,
     "metadata": {},
     "output_type": "execute_result"
    }
   ],
   "source": [
    "list_2 = [1,2,3,4]\n",
    "list_2 = [x+1 for x in list_2]\n",
    "list_2"
   ]
  },
  {
   "cell_type": "markdown",
   "metadata": {},
   "source": [
    "*3b*: We can try this again using list comprehension. Starting with the following code as a base, complete the previous task; add 1 to each element of list_2."
   ]
  },
  {
   "cell_type": "code",
   "execution_count": 6,
   "metadata": {},
   "outputs": [
    {
     "data": {
      "text/plain": [
       "['3 BOO', '4 BOO', '5 BOO', '6 BOO']"
      ]
     },
     "execution_count": 6,
     "metadata": {},
     "output_type": "execute_result"
    }
   ],
   "source": [
    "# Every element of the list x\n",
    "\n",
    "# x is used to just reference each specific element in this list\n",
    "[str(x+ 1) + ' BOO' for x in list_2] # we could also do [item for item in list2]\n"
   ]
  },
  {
   "cell_type": "markdown",
   "metadata": {},
   "source": [
    "## Numpy: A comparison to R\n",
    "Once you start working with numpy, you will begin to realize that many of its functions and objects bear a striking resemblence to those used in R. \n",
    "\n",
    "We can begin by considering the atomic vector in R. Recall that in R this is just a single data type (e.g. character, integer, float). Numpy Vectors in Python work the same way! We will illustrate this by first creating a numpy array. "
   ]
  },
  {
   "cell_type": "code",
   "execution_count": 7,
   "metadata": {},
   "outputs": [],
   "source": [
    "# !! Don't forget to import numpy!!\n",
    "import numpy as np"
   ]
  },
  {
   "cell_type": "markdown",
   "metadata": {},
   "source": [
    "### Task 4: Creating numpy array\n",
    "Using the list you used in task 3, you can create a numpy array with the following code. What happens when you add a character to that original list and try converting it to a numpy array? How does this compare to R?\n",
    "\n",
    "The array is converted to all strings and in R it doesn't have quotation marks to denote it's a string because an atomic vector in R doesn't have different data types in an atomic vector, so it's essentially the same as python.\n"
   ]
  },
  {
   "cell_type": "code",
   "execution_count": 8,
   "metadata": {},
   "outputs": [
    {
     "data": {
      "text/plain": [
       "array(['2', '3', '4', '5', 'cool'], dtype='<U21')"
      ]
     },
     "execution_count": 8,
     "metadata": {},
     "output_type": "execute_result"
    }
   ],
   "source": [
    "list_2.append('cool')\n",
    "my_array = np.array(list_2)\n",
    "my_array"
   ]
  },
  {
   "cell_type": "markdown",
   "metadata": {},
   "source": [
    "As with R, there are several built-in functions within numpy that can help us create arrays and matrices. Here we have listed just a few:\n",
    "\n",
    "    - np.arange()\n",
    "    - np.linspace()\n",
    "    - np.random.randn()\n",
    "    - np.random.randint()\n",
    "    - np.random.random()\n",
    "\n",
    "*4b*: We will use np.random.randn() to create a vector and convert it to a 10x10 matrix. Modify the code to create a 20 x 5 matrix"
   ]
  },
  {
   "cell_type": "code",
   "execution_count": 9,
   "metadata": {},
   "outputs": [
    {
     "data": {
      "text/plain": [
       "array([[ 0.52151283, -0.05688287, -0.59252923,  0.4535095 , -0.04155082],\n",
       "       [ 0.37487575, -0.73589984, -1.20198882, -1.14765131,  1.36589016],\n",
       "       [ 2.00801076,  0.01641455, -0.24728926,  0.50809245,  1.77044481],\n",
       "       [ 1.74639888,  0.44580057, -0.15638228,  0.31481783, -0.21251275],\n",
       "       [-1.07274618,  0.4068032 , -0.99349265,  1.30188345,  0.47110615],\n",
       "       [ 1.01290256, -0.18050331, -1.49796784,  0.29706307,  0.35245327],\n",
       "       [-1.2716223 ,  1.32882956, -0.4299807 , -0.51412089, -0.58227673],\n",
       "       [ 0.55027653, -0.05004354,  1.30428293,  0.28011727,  0.29698488],\n",
       "       [-1.45954203, -1.60708692, -1.64595636,  0.4199458 , -1.01368032],\n",
       "       [-0.02796228,  0.38496829,  0.67419387,  0.3225068 ,  0.58408416],\n",
       "       [-0.2258757 ,  0.32292358,  0.65935294,  2.07938649, -0.91048001],\n",
       "       [ 0.19216612, -0.81562688,  0.04454732, -1.04923655,  0.71023616],\n",
       "       [ 1.3264207 ,  0.79101987, -0.51946672, -0.6175505 ,  1.72280586],\n",
       "       [-1.11295414,  0.20966343,  0.38616493,  0.65223537, -0.02812971],\n",
       "       [-1.72335638,  1.0497069 ,  0.29637932,  0.85754607, -0.75143488],\n",
       "       [-0.9213209 ,  0.62830753, -0.98326907,  1.78703273,  1.32716753],\n",
       "       [-0.82646584, -0.24755138, -0.80758018,  0.08148877, -0.88399343],\n",
       "       [ 1.57617443,  1.75422248,  0.16652487,  0.17009345, -0.42866756],\n",
       "       [ 0.76281067,  0.23807625,  1.05331481,  1.73783777, -0.69107055],\n",
       "       [-0.6158701 , -0.21322954,  1.90981943, -0.05802484,  0.15315551]])"
      ]
     },
     "execution_count": 9,
     "metadata": {},
     "output_type": "execute_result"
    }
   ],
   "source": [
    "my_matrix = np.random.randn(100).reshape(20, 5)\n",
    "my_matrix"
   ]
  },
  {
   "cell_type": "markdown",
   "metadata": {},
   "source": [
    "### Task 5: Subsetting and summarizing a numpy array\n"
   ]
  },
  {
   "cell_type": "markdown",
   "metadata": {},
   "source": [
    "As with R, we can subset matrices (2d arrays) using the syntax:\n",
    "\n",
    "         my_matrix[row_subset, col_subset]\n",
    "         \n",
    "*row_subset* and/or *col_subset* can be logical arrays or arrays of integers designating the rows/columns we would like to keep. Crucially, if we do not want to subset by row or column, you must include a colon. For example, if we are only filtering by columns (not rows) we would write:\n",
    "\n",
    "        my_matrix[:, col_subset]\n",
    "\n",
    "*5a*: Filter the matrix created in 4b to include only columns 2 and 3."
   ]
  },
  {
   "cell_type": "code",
   "execution_count": 20,
   "metadata": {},
   "outputs": [
    {
     "data": {
      "text/plain": [
       "array([[-0.05688287, -0.59252923],\n",
       "       [-0.73589984, -1.20198882],\n",
       "       [ 0.01641455, -0.24728926],\n",
       "       [ 0.44580057, -0.15638228],\n",
       "       [ 0.4068032 , -0.99349265],\n",
       "       [-0.18050331, -1.49796784],\n",
       "       [ 1.32882956, -0.4299807 ],\n",
       "       [-0.05004354,  1.30428293],\n",
       "       [-1.60708692, -1.64595636],\n",
       "       [ 0.38496829,  0.67419387],\n",
       "       [ 0.32292358,  0.65935294],\n",
       "       [-0.81562688,  0.04454732],\n",
       "       [ 0.79101987, -0.51946672],\n",
       "       [ 0.20966343,  0.38616493],\n",
       "       [ 1.0497069 ,  0.29637932],\n",
       "       [ 0.62830753, -0.98326907],\n",
       "       [-0.24755138, -0.80758018],\n",
       "       [ 1.75422248,  0.16652487],\n",
       "       [ 0.23807625,  1.05331481],\n",
       "       [-0.21322954,  1.90981943]])"
      ]
     },
     "execution_count": 20,
     "metadata": {},
     "output_type": "execute_result"
    }
   ],
   "source": [
    "my_matrix[:,1:3]"
   ]
  },
  {
   "cell_type": "markdown",
   "metadata": {},
   "source": [
    "*5b*: Recall the distinction between functions and methods. For each of the following lines of code, create a comment describing its function, then rewrite it using a method instead of the function."
   ]
  },
  {
   "cell_type": "code",
   "execution_count": 24,
   "metadata": {},
   "outputs": [
    {
     "data": {
      "text/plain": [
       "array([ 0.52151283, -0.05688287, -0.59252923,  0.4535095 , -0.04155082,\n",
       "        0.37487575, -0.73589984, -1.20198882, -1.14765131,  1.36589016,\n",
       "        2.00801076,  0.01641455, -0.24728926,  0.50809245,  1.77044481,\n",
       "        1.74639888,  0.44580057, -0.15638228,  0.31481783, -0.21251275,\n",
       "       -1.07274618,  0.4068032 , -0.99349265,  1.30188345,  0.47110615,\n",
       "        1.01290256, -0.18050331, -1.49796784,  0.29706307,  0.35245327,\n",
       "       -1.2716223 ,  1.32882956, -0.4299807 , -0.51412089, -0.58227673,\n",
       "        0.55027653, -0.05004354,  1.30428293,  0.28011727,  0.29698488,\n",
       "       -1.45954203, -1.60708692, -1.64595636,  0.4199458 , -1.01368032,\n",
       "       -0.02796228,  0.38496829,  0.67419387,  0.3225068 ,  0.58408416,\n",
       "       -0.2258757 ,  0.32292358,  0.65935294,  2.07938649, -0.91048001,\n",
       "        0.19216612, -0.81562688,  0.04454732, -1.04923655,  0.71023616,\n",
       "        1.3264207 ,  0.79101987, -0.51946672, -0.6175505 ,  1.72280586,\n",
       "       -1.11295414,  0.20966343,  0.38616493,  0.65223537, -0.02812971,\n",
       "       -1.72335638,  1.0497069 ,  0.29637932,  0.85754607, -0.75143488,\n",
       "       -0.9213209 ,  0.62830753, -0.98326907,  1.78703273,  1.32716753,\n",
       "       -0.82646584, -0.24755138, -0.80758018,  0.08148877, -0.88399343,\n",
       "        1.57617443,  1.75422248,  0.16652487,  0.17009345, -0.42866756,\n",
       "        0.76281067,  0.23807625,  1.05331481,  1.73783777, -0.69107055,\n",
       "       -0.6158701 , -0.21322954,  1.90981943, -0.05802484,  0.15315551])"
      ]
     },
     "execution_count": 24,
     "metadata": {},
     "output_type": "execute_result"
    }
   ],
   "source": [
    "np.ravel(my_matrix)  #np.ravel flattens a multi-dimensional array into a one dimensional array\n",
    "my_matrix.ravel()"
   ]
  },
  {
   "cell_type": "code",
   "execution_count": 27,
   "metadata": {},
   "outputs": [
    {
     "data": {
      "text/plain": [
       "array([[2, 1, 4, 3, 0],\n",
       "       [2, 3, 1, 0, 4],\n",
       "       [2, 1, 3, 4, 0],\n",
       "       [4, 2, 3, 1, 0],\n",
       "       [0, 2, 1, 4, 3],\n",
       "       [2, 1, 3, 4, 0],\n",
       "       [0, 4, 3, 2, 1],\n",
       "       [1, 3, 4, 0, 2],\n",
       "       [2, 1, 0, 4, 3],\n",
       "       [0, 3, 1, 4, 2],\n",
       "       [4, 0, 1, 2, 3],\n",
       "       [3, 1, 2, 0, 4],\n",
       "       [3, 2, 1, 0, 4],\n",
       "       [0, 4, 1, 2, 3],\n",
       "       [0, 4, 2, 3, 1],\n",
       "       [2, 0, 1, 4, 3],\n",
       "       [4, 0, 2, 1, 3],\n",
       "       [4, 2, 3, 0, 1],\n",
       "       [4, 1, 0, 2, 3],\n",
       "       [0, 1, 3, 4, 2]])"
      ]
     },
     "execution_count": 27,
     "metadata": {},
     "output_type": "execute_result"
    }
   ],
   "source": [
    "np.argsort(my_matrix, axis = 1) # np.argsort returns the indices that would sort an array in ascending order\n",
    "my_matrix.argsort(axis = 1)"
   ]
  },
  {
   "cell_type": "code",
   "execution_count": 29,
   "metadata": {},
   "outputs": [
    {
     "data": {
      "text/plain": [
       "array([[ 0.52151283, -0.05688287, -0.59252923,  0.4535095 , -0.04155082],\n",
       "       [ 0.89638859, -0.79278271, -1.79451804, -0.69414181,  1.32433934],\n",
       "       [ 2.90439934, -0.77636816, -2.0418073 , -0.18604936,  3.09478416],\n",
       "       [ 4.65079823, -0.33056759, -2.19818958,  0.12876847,  2.88227141],\n",
       "       [ 3.57805204,  0.07623561, -3.19168223,  1.43065191,  3.35337756],\n",
       "       [ 4.5909546 , -0.1042677 , -4.68965007,  1.72771498,  3.70583083],\n",
       "       [ 3.31933231,  1.22456186, -5.11963077,  1.21359409,  3.1235541 ],\n",
       "       [ 3.86960883,  1.17451833, -3.81534784,  1.49371136,  3.42053898],\n",
       "       [ 2.4100668 , -0.4325686 , -5.4613042 ,  1.91365716,  2.40685866],\n",
       "       [ 2.38210452, -0.04760031, -4.78711033,  2.23616396,  2.99094282],\n",
       "       [ 2.15622883,  0.27532327, -4.12775739,  4.31555045,  2.08046281],\n",
       "       [ 2.34839495, -0.54030361, -4.08321007,  3.2663139 ,  2.79069897],\n",
       "       [ 3.67481565,  0.25071626, -4.60267679,  2.6487634 ,  4.51350483],\n",
       "       [ 2.5618615 ,  0.46037969, -4.21651186,  3.30099877,  4.48537512],\n",
       "       [ 0.83850512,  1.51008658, -3.92013255,  4.15854485,  3.73394024],\n",
       "       [-0.08281578,  2.13839411, -4.90340162,  5.94557757,  5.06110777],\n",
       "       [-0.90928162,  1.89084273, -5.7109818 ,  6.02706634,  4.17711434],\n",
       "       [ 0.66689281,  3.64506521, -5.54445693,  6.19715979,  3.74844678],\n",
       "       [ 1.42970348,  3.88314146, -4.49114212,  7.93499756,  3.05737623],\n",
       "       [ 0.81383338,  3.66991192, -2.58132269,  7.87697272,  3.21053175]])"
      ]
     },
     "execution_count": 29,
     "metadata": {},
     "output_type": "execute_result"
    }
   ],
   "source": [
    "np.cumsum(my_matrix, axis = 0) # calculates the cumulative sum of elements along a specified axis in a NumPy array\n",
    "my_matrix.cumsum(axis = 0)"
   ]
  }
 ],
 "metadata": {
  "kernelspec": {
   "display_name": "Python 3 (ipykernel)",
   "language": "python",
   "name": "python3"
  },
  "language_info": {
   "codemirror_mode": {
    "name": "ipython",
    "version": 3
   },
   "file_extension": ".py",
   "mimetype": "text/x-python",
   "name": "python",
   "nbconvert_exporter": "python",
   "pygments_lexer": "ipython3",
   "version": "3.11.4"
  }
 },
 "nbformat": 4,
 "nbformat_minor": 4
}
